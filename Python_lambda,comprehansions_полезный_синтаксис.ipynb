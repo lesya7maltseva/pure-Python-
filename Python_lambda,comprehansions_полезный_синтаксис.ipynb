{
  "nbformat": 4,
  "nbformat_minor": 0,
  "metadata": {
    "colab": {
      "provenance": [],
      "authorship_tag": "ABX9TyPKNTDOWgyXec+jon03dgbZ",
      "include_colab_link": true
    },
    "kernelspec": {
      "name": "python3",
      "display_name": "Python 3"
    },
    "language_info": {
      "name": "python"
    }
  },
  "cells": [
    {
      "cell_type": "markdown",
      "metadata": {
        "id": "view-in-github",
        "colab_type": "text"
      },
      "source": [
        "<a href=\"https://colab.research.google.com/github/lesya7maltseva/pure-Python-/blob/main/Python_lambda%2Ccomprehansions_%D0%BF%D0%BE%D0%BB%D0%B5%D0%B7%D0%BD%D1%8B%D0%B9_%D1%81%D0%B8%D0%BD%D1%82%D0%B0%D0%BA%D1%81%D0%B8%D1%81.ipynb\" target=\"_parent\"><img src=\"https://colab.research.google.com/assets/colab-badge.svg\" alt=\"Open In Colab\"/></a>"
      ]
    },
    {
      "cell_type": "code",
      "execution_count": null,
      "metadata": {
        "id": "LVak9yxw8BUD"
      },
      "outputs": [],
      "source": [
        "data = [\n",
        "    {\n",
        "        'name': 'Иван',\n",
        "        'income': 5000,\n",
        "        'expenses': 3000,\n",
        "        'date': '2023-04-01'\n",
        "    },\n",
        "    {\n",
        "        'name': 'Мария',\n",
        "        'income': 7000,\n",
        "        'expenses': 6000,\n",
        "        'date': '2023-04-01'\n",
        "    }\n",
        "]\n",
        "\n",
        "period = '2023-04'\n",
        "\n",
        "def client_with_largest_gap(data):\n",
        "  lst_filtered = list(filter(lambda x: x['date'][:-3] == period, data))\n",
        "  lst_dif = list(map(lambda x: {'name': x['name'], 'dif': x['income'] - x['expenses']}, lst_filtered))\n",
        "  res = reduce(lambda x,y: x if x['dif']>y['dif'] else y, lst_dif)\n",
        "  return res['name']"
      ]
    },
    {
      "cell_type": "code",
      "source": [
        "from functools import reduce\n",
        "lst_filtered = list(filter(lambda x: x['date'][:-3] == period, data))\n",
        "lst_dif = list(map(lambda x: {'name': x['name'], 'dif': x['income'] - x['expenses']}, lst_filtered))\n",
        "res = reduce(lambda x,y: x if x['dif']>y['dif'] else y, lst_dif)\n",
        "return res['name']"
      ],
      "metadata": {
        "colab": {
          "base_uri": "https://localhost:8080/"
        },
        "id": "nkAHWv2m-YuE",
        "outputId": "0ae437fe-726b-4a78-8402-1d0a7bbb5f90"
      },
      "execution_count": null,
      "outputs": [
        {
          "output_type": "execute_result",
          "data": {
            "text/plain": [
              "{'name': 'Иван', 'dif': 2000}"
            ]
          },
          "metadata": {},
          "execution_count": 9
        }
      ]
    },
    {
      "cell_type": "code",
      "source": [
        "client_with_largest_gap(data)"
      ],
      "metadata": {
        "colab": {
          "base_uri": "https://localhost:8080/"
        },
        "id": "gaG6I-Qc9dC3",
        "outputId": "3e9b39aa-3ee1-4475-89af-20d82ca90dc8"
      },
      "execution_count": null,
      "outputs": [
        {
          "output_type": "execute_result",
          "data": {
            "text/plain": [
              "<function __main__.client_with_largest_gap.<locals>.<lambda>(x)>"
            ]
          },
          "metadata": {},
          "execution_count": 10
        }
      ]
    },
    {
      "cell_type": "code",
      "source": [
        "#Реализуйте функцию multiply_lists, которая принимает на вход два списка чисел a и b.\n",
        "#Функция должна умножать элементы списков a и b попарно. Результатом должен быть список произведений.\n",
        "#Функция multiply_lists принимает на вход два списка чисел a и b и должна вернуть список произведений элементов списков a и b."
      ],
      "metadata": {
        "id": "aMoY6Q_olw25"
      },
      "execution_count": null,
      "outputs": []
    },
    {
      "cell_type": "code",
      "source": [
        "def multiply_lists(a,b):\n",
        "  res = list(map(lambda x,y: x*y, a,b))\n",
        "  return res"
      ],
      "metadata": {
        "id": "DzpxsQ2tl3Q3"
      },
      "execution_count": null,
      "outputs": []
    },
    {
      "cell_type": "code",
      "source": [
        "a = []\n",
        "b = [4, 5, 6]\n",
        "multiply_lists(a,b)"
      ],
      "metadata": {
        "colab": {
          "base_uri": "https://localhost:8080/"
        },
        "id": "_4jflQMOm6s5",
        "outputId": "1313607f-cd89-4714-8e72-875e1616edd0"
      },
      "execution_count": null,
      "outputs": [
        {
          "output_type": "execute_result",
          "data": {
            "text/plain": [
              "[]"
            ]
          },
          "metadata": {},
          "execution_count": 12
        }
      ]
    },
    {
      "cell_type": "code",
      "source": [
        "#Сегодня вашей задачей является написание функции, которая позволит быстро подсчитывать общую сумму продаж по каждому из товаров за последние три года.\n",
        "#Это поможет узнать, какие товары являются наиболее популярными и прибыльными, и определить, нужно ли корректировать стратегию продаж.\n",
        "#Напишите функцию total_sales_by_product(table, product_name), которая принимает на вход таблицу продаж и наименование товара,\n",
        "#а затем возвращает общую сумму продаж данного товара за 2020, 2021 и 2022."
      ],
      "metadata": {
        "id": "th0f9LbvnQHn"
      },
      "execution_count": null,
      "outputs": []
    },
    {
      "cell_type": "code",
      "source": [
        "table = [('Календарь', '2020-01-01', 100.0), ('Календарь', '2023-03-15', 150.0), ('Календарь', '2019-02-28', 200.0)]\n",
        "product_name = 'Календарь'\n",
        "\n",
        "\n",
        "def total_sales_by_product(table, product_name):\n",
        "  start = datetime.strptime('2020-01-01','%Y-%m-%d').date()\n",
        "  end = datetime.strptime('2022-12-31', '%Y-%m-%d').date()\n",
        "  lst_product = list(filter(lambda x: x[0] == product_name and (datetime.strptime(x[1], '%Y-%m-%d').date() >= start and datetime.strptime(x[1], '%Y-%m-%d').date() <= end), table))\n",
        "  res = sum(list(map(lambda x: x[2], lst_product)))\n",
        "  return res\n",
        "\n",
        "total_sales_by_product(table, product_name)"
      ],
      "metadata": {
        "id": "lc0_DJvPnes8",
        "colab": {
          "base_uri": "https://localhost:8080/"
        },
        "outputId": "53c89b75-94cc-4989-8f81-0dc08f021f92"
      },
      "execution_count": null,
      "outputs": [
        {
          "output_type": "execute_result",
          "data": {
            "text/plain": [
              "100.0"
            ]
          },
          "metadata": {},
          "execution_count": 42
        }
      ]
    },
    {
      "cell_type": "code",
      "source": [
        "lst = ['hello', 'world', 'this', 'is', 'a', 'test']\n",
        "n = 4"
      ],
      "metadata": {
        "id": "qPFaUpPR1DqB"
      },
      "execution_count": null,
      "outputs": []
    },
    {
      "cell_type": "code",
      "source": [
        "def filter_long_words(n, lst):\n",
        "  return list(filter(lambda x: len(x)>=n, lst))"
      ],
      "metadata": {
        "id": "yWcMOxs5s3gF"
      },
      "execution_count": null,
      "outputs": []
    },
    {
      "cell_type": "code",
      "source": [
        "filter_long_words(n, lst)"
      ],
      "metadata": {
        "colab": {
          "base_uri": "https://localhost:8080/"
        },
        "id": "e6TH0pGZ2_oH",
        "outputId": "f6be93a3-1ae4-4e3d-8760-c174a1323a52"
      },
      "execution_count": null,
      "outputs": [
        {
          "output_type": "execute_result",
          "data": {
            "text/plain": [
              "['hello', 'world', 'this', 'test']"
            ]
          },
          "metadata": {},
          "execution_count": 48
        }
      ]
    },
    {
      "cell_type": "code",
      "source": [
        "employees = [ {'name': 'Иванов', 'position': 'секретарь', 'salary': 50000},\n",
        "                         {'name': 'Сидоров', 'position': 'менеджер', 'salary': 45000},\n",
        "                         {'name': 'Петров', 'position': 'директор', 'salary': 100000} ]\n",
        "\n",
        "def sort_employees(employees):\n",
        "  lst_emp = list(filter(lambda x: x['position'] == 'менеджер' or x['position'] == 'директор', employees))\n",
        "  return sorted(lst_emp, key = lambda x: x['salary'], reverse = True)"
      ],
      "metadata": {
        "id": "DJpnGxU_ZfZZ"
      },
      "execution_count": null,
      "outputs": []
    },
    {
      "cell_type": "code",
      "source": [
        "lst_emp = list(filter(lambda x: x['position'] == 'менеджер' or x['position'] == 'директор', employees))\n",
        "sorted(lst_emp, key = lambda x: x['salary'], reverse = True)"
      ],
      "metadata": {
        "colab": {
          "base_uri": "https://localhost:8080/"
        },
        "id": "hnypaQ4dZl6O",
        "outputId": "56e4bca7-13fb-46c8-e0b2-33cc0acc92b5"
      },
      "execution_count": null,
      "outputs": [
        {
          "output_type": "execute_result",
          "data": {
            "text/plain": [
              "[{'name': 'Петров', 'position': 'директор', 'salary': 100000},\n",
              " {'name': 'Сидоров', 'position': 'менеджер', 'salary': 45000}]"
            ]
          },
          "metadata": {},
          "execution_count": 104
        }
      ]
    },
    {
      "cell_type": "code",
      "source": [
        "num = [1, 2, 3, 4, 5]"
      ],
      "metadata": {
        "id": "aCfpwpyub41C"
      },
      "execution_count": null,
      "outputs": []
    },
    {
      "cell_type": "code",
      "source": [
        "def sum_squared_even(num):\n",
        "  lst_filtered = list(filter(lambda x: x%2 == 0, num))\n",
        "  res = sum(list(map(lambda x: x**2,lst_filtered)))\n",
        "  return res"
      ],
      "metadata": {
        "id": "aFXhgxZCcLcq"
      },
      "execution_count": null,
      "outputs": []
    },
    {
      "cell_type": "code",
      "source": [
        "sum_squared_even(num)"
      ],
      "metadata": {
        "colab": {
          "base_uri": "https://localhost:8080/"
        },
        "id": "5md7Knp7d6Oh",
        "outputId": "2bf0e224-7e02-4b40-ac1d-8791700c4d15"
      },
      "execution_count": null,
      "outputs": [
        {
          "output_type": "execute_result",
          "data": {
            "text/plain": [
              "20"
            ]
          },
          "metadata": {},
          "execution_count": 65
        }
      ]
    },
    {
      "cell_type": "code",
      "source": [
        "def calculate_top_students (students):\n",
        "  lst_marks = list(map(lambda x: x[2], students))\n",
        "  avg_mark = round(sum(lst_marks)/len(lst_marks),2)\n",
        "  lst_students = list(filter(lambda x: x[2] >= avg_mark,students))\n",
        "  lst_students = sorted(lst_students, key= lambda x: x[0])\n",
        "  res = list(map(lambda x: x[0], lst_students))\n",
        "  return res"
      ],
      "metadata": {
        "id": "8xY3L-Xrib47"
      },
      "execution_count": null,
      "outputs": []
    },
    {
      "cell_type": "code",
      "source": [
        "arr = [1, 20, -3, 5, 0]\n",
        "arr.index(20)"
      ],
      "metadata": {
        "colab": {
          "base_uri": "https://localhost:8080/"
        },
        "id": "CBhKJf5ouq5Q",
        "outputId": "2f953d04-b439-4ec0-f166-12cb675d700a"
      },
      "execution_count": null,
      "outputs": [
        {
          "output_type": "execute_result",
          "data": {
            "text/plain": [
              "1"
            ]
          },
          "metadata": {},
          "execution_count": 107
        }
      ]
    },
    {
      "cell_type": "code",
      "source": [
        "reduce(lambda x,y: x if x > y else y, arr)"
      ],
      "metadata": {
        "colab": {
          "base_uri": "https://localhost:8080/"
        },
        "id": "2exibpGKusFk",
        "outputId": "13c90c38-ac6d-4372-9022-e29fde7f0eb5"
      },
      "execution_count": null,
      "outputs": [
        {
          "output_type": "execute_result",
          "data": {
            "text/plain": [
              "20"
            ]
          },
          "metadata": {},
          "execution_count": 87
        }
      ]
    },
    {
      "cell_type": "code",
      "source": [
        "d = {'a': 1, 'b': 5, 'c': 0}\n",
        "type = 'keywise'\n",
        "order = 'desc'"
      ],
      "metadata": {
        "id": "7rejB0AL5M1l"
      },
      "execution_count": null,
      "outputs": []
    },
    {
      "cell_type": "code",
      "source": [
        "dict(sorted(d.items(),key = lambda x: x[1], reverse=False))"
      ],
      "metadata": {
        "colab": {
          "base_uri": "https://localhost:8080/"
        },
        "id": "WTdTjYlw6FT2",
        "outputId": "55ae1ca1-7e92-45b5-e30c-b80f20827ff9"
      },
      "execution_count": null,
      "outputs": [
        {
          "output_type": "execute_result",
          "data": {
            "text/plain": [
              "{'c': 0, 'a': 1, 'b': 5}"
            ]
          },
          "metadata": {},
          "execution_count": 105
        }
      ]
    },
    {
      "cell_type": "code",
      "source": [
        "def sort_dict(d,type,order):\n",
        "  if type = 'keywise':\n",
        "    if order = 'desc':\n",
        "      res = dict(sorted(d.items(),reverse= True))\n",
        "    else: res = dict(sorted(d.items(),reverse= False))\n",
        "  else:\n",
        "    if order = 'desc':\n",
        "      res = dict(sorted(d.items(), key = lambda x: x[1], reverse= True))\n",
        "    else: res = dict(sorted(d.items(), key = lambda x: x[1],reverse= False))\n",
        "  return res\n"
      ],
      "metadata": {
        "id": "FXwbb4dw5OIt"
      },
      "execution_count": null,
      "outputs": []
    },
    {
      "cell_type": "code",
      "source": [
        "ref_list = [0, 1, 2, 3, 4, 5, 6, 7, 8, 9]\n",
        "start = 9\n",
        "stop  = 6\n",
        "num   = 1000\n",
        "\n",
        "def list_add_num(ref_list, start, stop, num):\n",
        "     # напишите свой код ниже\n",
        "    if len (ref_list) <=start or len (ref_list)<=stop:\n",
        "        return -1\n",
        "    elif start > stop :\n",
        "        res = list(map(lambda x: x + num if ref_list.index(x)>=stop and ref_list.index(x)<= start else x, ref_list))\n",
        "    else: res = list(map(lambda x: x + num if ref_list.index(x)>= start and ref_list.index(x)<=stop else x, ref_list))\n",
        "    return res\n",
        "list_add_num(ref_list, start, stop, num)"
      ],
      "metadata": {
        "colab": {
          "base_uri": "https://localhost:8080/"
        },
        "id": "jaXeQd0JENlY",
        "outputId": "2ef61624-bb73-4fab-b053-d42ee85ca31b"
      },
      "execution_count": null,
      "outputs": [
        {
          "output_type": "execute_result",
          "data": {
            "text/plain": [
              "[0, 1, 2, 3, 4, 5, 1006, 1007, 1008, 1009]"
            ]
          },
          "metadata": {},
          "execution_count": 2
        }
      ]
    },
    {
      "cell_type": "code",
      "source": [
        "lst = [12,24,35,70,88,120,155]\n",
        "res = [x for x in lst if lst.index(x) not in [0, 2, 4, 6] ]\n",
        "res"
      ],
      "metadata": {
        "id": "-gn-ZFaONDbr",
        "outputId": "e783acd8-825e-4724-cae5-26ea4fd231b1",
        "colab": {
          "base_uri": "https://localhost:8080/"
        }
      },
      "execution_count": null,
      "outputs": [
        {
          "output_type": "execute_result",
          "data": {
            "text/plain": [
              "[24, 70, 120]"
            ]
          },
          "metadata": {},
          "execution_count": 3
        }
      ]
    },
    {
      "cell_type": "code",
      "source": [
        "lst_1000 = [x for x in range(1,1001)]\n",
        "lst_1000"
      ],
      "metadata": {
        "id": "TlqTgJIhobuS"
      },
      "execution_count": null,
      "outputs": []
    },
    {
      "cell_type": "code",
      "source": [
        "def highest_divisible_digit():\n",
        "  #создаем список от 0 до 1000\n",
        "  lst_1000 = [x for x in range(1,1001)]\n",
        "\n",
        "  #создаем словарь со всеми однозначными делителями\n",
        "  dict_raw = {}\n",
        "  for el in lst_1000:\n",
        "    for i in range(1,10):\n",
        "      if el%i == 0:\n",
        "        if el not in dict_raw.keys():\n",
        "          dict_raw[el] = [i]\n",
        "        else: dict_raw[el].append(i)\n",
        "  # Создаем спиок из максимальных делителей\n",
        "  lst_NOD = list(map(lambda x: max(x),dict_raw.values()))\n",
        "  # Сцепляем списки в словарь\n",
        "  dict_NOD = {key:val for key, val in zip(lst_1000, lst_NOD)}\n",
        "  return dict_NOD"
      ],
      "metadata": {
        "id": "ZDM_fJ91uk0E"
      },
      "execution_count": null,
      "outputs": []
    },
    {
      "cell_type": "code",
      "source": [
        "dict_NOD = {key: max([num for num in range(1,10) if key%num == 0]) for key in lst_1000}\n",
        "dict_NOD"
      ],
      "metadata": {
        "id": "jco0SwAL1sRk"
      },
      "execution_count": null,
      "outputs": []
    },
    {
      "cell_type": "code",
      "source": [
        "s = 'The lazy cat sat on the windowsill and watched the birds outside'"
      ],
      "metadata": {
        "id": "7aoa5wXvk_B6"
      },
      "execution_count": null,
      "outputs": []
    },
    {
      "cell_type": "code",
      "source": [
        "lst_first = [chr(ord(i) + 1) if ord(i) in range(ord('a'), ord('y')) else i for i in s]"
      ],
      "metadata": {
        "id": "UaUvcG8OlBUp"
      },
      "execution_count": null,
      "outputs": []
    },
    {
      "cell_type": "code",
      "source": [
        "''.join(lst_first)"
      ],
      "metadata": {
        "colab": {
          "base_uri": "https://localhost:8080/",
          "height": 35
        },
        "id": "oVw6jKDNlPP1",
        "outputId": "ad7639d0-2d3b-43c7-b185-6af0ddb1b65e"
      },
      "execution_count": null,
      "outputs": [
        {
          "output_type": "execute_result",
          "data": {
            "text/plain": [
              "'Tif mbzy dbu tbu po uif xjoepxtjmm boe xbudife uif cjset pvutjef'"
            ],
            "application/vnd.google.colaboratory.intrinsic+json": {
              "type": "string"
            }
          },
          "metadata": {},
          "execution_count": 53
        }
      ]
    },
    {
      "cell_type": "code",
      "source": [
        "arr = [1, -1, 0, -3, 3, 9, 15, 15.1]"
      ],
      "metadata": {
        "id": "NhwrHJ801yPU"
      },
      "execution_count": null,
      "outputs": []
    },
    {
      "cell_type": "code",
      "source": [
        "lst_arr = [el if el%3 == 0 else 0 for el in arr ]"
      ],
      "metadata": {
        "id": "VA_U1NLx11kY"
      },
      "execution_count": null,
      "outputs": []
    },
    {
      "cell_type": "code",
      "source": [
        "lst_arr"
      ],
      "metadata": {
        "colab": {
          "base_uri": "https://localhost:8080/"
        },
        "id": "hsFlI7G82dDU",
        "outputId": "deece305-9aa5-4a6a-85b3-4ed37ca88304"
      },
      "execution_count": null,
      "outputs": [
        {
          "output_type": "execute_result",
          "data": {
            "text/plain": [
              "[0, 0, 0, -3, 3, 9, 15, 0]"
            ]
          },
          "metadata": {},
          "execution_count": 57
        }
      ]
    },
    {
      "cell_type": "code",
      "source": [
        "tup = ([1], [2, '2'], [[1, 2], [3, 4]], [], ['s'])"
      ],
      "metadata": {
        "id": "-DokxGpk4Bln"
      },
      "execution_count": null,
      "outputs": []
    },
    {
      "cell_type": "code",
      "source": [
        "[el for subel in tup for el in subel]\n"
      ],
      "metadata": {
        "colab": {
          "base_uri": "https://localhost:8080/"
        },
        "id": "rMHFPrUz4Cdq",
        "outputId": "87c799a4-73b9-44b7-a66c-785ef050929d"
      },
      "execution_count": null,
      "outputs": [
        {
          "output_type": "execute_result",
          "data": {
            "text/plain": [
              "[1, 2, '2', [1, 2], [3, 4], 's']"
            ]
          },
          "metadata": {},
          "execution_count": 62
        }
      ]
    },
    {
      "cell_type": "code",
      "source": [
        "arr = [1, 2, (1), 's', [1, 2], None, {1: 2}, (5, )]"
      ],
      "metadata": {
        "id": "ebZY4KK-BTYM"
      },
      "execution_count": null,
      "outputs": []
    },
    {
      "cell_type": "code",
      "source": [
        "res = [isinstance(el,list) for el in arr]\n",
        "res"
      ],
      "metadata": {
        "colab": {
          "base_uri": "https://localhost:8080/"
        },
        "id": "nonjI1-8BU6T",
        "outputId": "882eb13e-b8d6-4df2-afe1-660120e19478"
      },
      "execution_count": null,
      "outputs": [
        {
          "output_type": "execute_result",
          "data": {
            "text/plain": [
              "[False, False, False, False, True, False, False, False]"
            ]
          },
          "metadata": {},
          "execution_count": 65
        }
      ]
    },
    {
      "cell_type": "code",
      "source": [
        "ids = [1, 2, 3]\n",
        "names = ['Иван', 'Петр', 'Елена']"
      ],
      "metadata": {
        "id": "KxL9LgcotF1h"
      },
      "execution_count": null,
      "outputs": []
    },
    {
      "cell_type": "code",
      "source": [
        "dict_id = {key:val for key, val in zip(ids,names)}\n",
        "dict_id"
      ],
      "metadata": {
        "colab": {
          "base_uri": "https://localhost:8080/"
        },
        "id": "HmL76SZGtGuw",
        "outputId": "b09ac215-71c8-4bdb-9f00-f75e280e8cb2"
      },
      "execution_count": null,
      "outputs": [
        {
          "output_type": "execute_result",
          "data": {
            "text/plain": [
              "{1: 'Иван', 2: 'Петр', 3: 'Елена'}"
            ]
          },
          "metadata": {},
          "execution_count": 3
        }
      ]
    },
    {
      "cell_type": "code",
      "source": [
        "sentences = [\"Python is a popular programming language\", \"It was created by Guido van Rossum in 1991\"]\n",
        "\n",
        "stopwords = {'a', 'by', 'in', 'is', 'it', 'of', 'the', 'to', 'was', '1991', 'it', 'programming', 'popular', 'language', 'it'}\n",
        "\n",
        "lst_words = [el.lower() for word in sentences for el in word.split(' ') if el.lower() not in stopwords]\n",
        "lst_words\n",
        "def get_unique_words(sentences, stopwords):\n",
        "  lst_words = [el.lower() for word in sentences for el in word.split(' ') if el.lower() not in stopwords]\n",
        "  return lst_words"
      ],
      "metadata": {
        "colab": {
          "base_uri": "https://localhost:8080/"
        },
        "id": "ubDPL102MMnd",
        "outputId": "bc9e4bd8-4528-49e0-b188-89e9d9b92bae"
      },
      "execution_count": null,
      "outputs": [
        {
          "output_type": "execute_result",
          "data": {
            "text/plain": [
              "['python', 'created', 'guido', 'van', 'rossum']"
            ]
          },
          "metadata": {},
          "execution_count": 15
        }
      ]
    },
    {
      "cell_type": "code",
      "source": [
        "import string"
      ],
      "metadata": {
        "id": "G3WrgGEzK7dp"
      },
      "execution_count": null,
      "outputs": []
    },
    {
      "cell_type": "code",
      "source": [
        "def convert_to_numbers(str_):\n",
        "  dict_alfa = {key:val for key, val in zip(string.ascii_lowercase, range(1,27))}\n",
        "  str_returned = [dict_alfa.get(alfa.lower()) if alfa.isalpha() else \" \"  for alfa in list(str_)]\n",
        "  return str_returned"
      ],
      "metadata": {
        "id": "v0uKphbsLfn3"
      },
      "execution_count": null,
      "outputs": []
    },
    {
      "cell_type": "code",
      "source": [
        "def lim_max(nums, limit):\n",
        "    # напишите свой код ниже\n",
        "    if len(nums) == 0: return -1\n",
        "    lst_res = [el for el in nums if el < limit]\n",
        "    if not lst_res: return -1\n",
        "    else: res = max(lst_res)\n",
        "    return res"
      ],
      "metadata": {
        "colab": {
          "base_uri": "https://localhost:8080/"
        },
        "id": "8QRH36vaMs3r",
        "outputId": "421ac970-6aef-42a7-ee18-4932b463878a"
      },
      "execution_count": null,
      "outputs": [
        {
          "output_type": "execute_result",
          "data": {
            "text/plain": [
              "[8, 5, 12, 12, 15, ' ', 23, 15, 18, 12, 4, ' ']"
            ]
          },
          "metadata": {},
          "execution_count": 14
        }
      ]
    },
    {
      "cell_type": "code",
      "source": [
        "nums = (100, )\n",
        "limit = 50\n",
        "Ответ = 40"
      ],
      "metadata": {
        "id": "odRZBL_tVvsy"
      },
      "execution_count": null,
      "outputs": []
    },
    {
      "cell_type": "code",
      "source": [
        "lst_res = [el for el in nums if el < limit]\n",
        "if not lst_res: print(-1)"
      ],
      "metadata": {
        "colab": {
          "base_uri": "https://localhost:8080/"
        },
        "id": "M-WLWpLnXnXt",
        "outputId": "66c5aaf1-daa0-4707-f482-dc56141fcde5"
      },
      "execution_count": null,
      "outputs": [
        {
          "output_type": "stream",
          "name": "stdout",
          "text": [
            "-1\n"
          ]
        }
      ]
    },
    {
      "cell_type": "code",
      "source": [
        "d = {1:[1], 2:[2,3], 3:[4,5,6]}\n",
        "d.values()"
      ],
      "metadata": {
        "colab": {
          "base_uri": "https://localhost:8080/"
        },
        "id": "Qooffa4kVLwK",
        "outputId": "76199c63-07c3-4a21-e7b7-ec2bd93ae132"
      },
      "execution_count": null,
      "outputs": [
        {
          "output_type": "execute_result",
          "data": {
            "text/plain": [
              "dict_values([[1], [2, 3], [4, 5, 6]])"
            ]
          },
          "metadata": {},
          "execution_count": 34
        }
      ]
    },
    {
      "cell_type": "code",
      "source": [
        "c = {}"
      ],
      "metadata": {
        "id": "w2ZCimVKVl6w"
      },
      "execution_count": null,
      "outputs": []
    },
    {
      "cell_type": "code",
      "source": [
        "for key, val in d.items():\n",
        "  if key>1:\n",
        "    c[key] = val + c[key-1]\n",
        "  else: c[key] = val\n"
      ],
      "metadata": {
        "id": "feeODXL4WF5L"
      },
      "execution_count": null,
      "outputs": []
    },
    {
      "cell_type": "code",
      "source": [],
      "metadata": {
        "id": "LDknVqZQcOmh"
      },
      "execution_count": null,
      "outputs": []
    },
    {
      "cell_type": "code",
      "source": [
        "def get_square_root(x):\n",
        "  if x < 0:\n",
        "    raise ValueError(\"Ошибка: введено отрицательное число\")\n",
        "  else: return x**(0.5)\n"
      ],
      "metadata": {
        "id": "bRHFotL0Wxrf"
      },
      "execution_count": null,
      "outputs": []
    },
    {
      "cell_type": "code",
      "source": [
        "get_square_root(-9.0)"
      ],
      "metadata": {
        "id": "wd2ibmdprB7W"
      },
      "execution_count": null,
      "outputs": []
    },
    {
      "cell_type": "code",
      "source": [
        "def sum_list(lst_el):\n",
        "  new_lst = list(map(lambda x: isinstance(x, (int, float)) ,lst_el))\n",
        "  if False in new_lst:\n",
        "    raise TypeError('Список содержит нечисловой элемент')\n",
        "  else:\n",
        "    return sum(lst_el)\n"
      ],
      "metadata": {
        "id": "icjqvJdjtkZJ"
      },
      "execution_count": null,
      "outputs": []
    },
    {
      "cell_type": "code",
      "source": [
        "sum_list([1,2,3])"
      ],
      "metadata": {
        "id": "asCRqJrotwUj"
      },
      "execution_count": null,
      "outputs": []
    },
    {
      "cell_type": "code",
      "source": [
        "def err_processing (d):\n",
        "  try:\n",
        "    1/d['denom']\n",
        "  except ZeroDivisionError as err:\n",
        "    print(f'Деление на 0 запрещено! Ошибка: {repr(err)}')\n",
        "  except TypeError as err:\n",
        "    print(f\"Проверьте переданный тип denom! Ошибка: {str(repr(err))}\")\n",
        "  except AttributeError as err:\n",
        "    print(f\"Непредвиденная ошибка: {repr(err)}\")"
      ],
      "metadata": {
        "id": "GblcZk2SwDXU"
      },
      "execution_count": null,
      "outputs": []
    },
    {
      "cell_type": "code",
      "source": [
        "err_processing({'denom':'s'})"
      ],
      "metadata": {
        "colab": {
          "base_uri": "https://localhost:8080/"
        },
        "id": "AB6E6Gda1IJW",
        "outputId": "57499196-4ac6-4b12-b7b2-b842dac7b9f2"
      },
      "execution_count": null,
      "outputs": [
        {
          "output_type": "stream",
          "name": "stdout",
          "text": [
            "Проверьте переданный тип denom! Ошибка: TypeError(\"unsupported operand type(s) for /: 'int' and 'str'\")\n"
          ]
        }
      ]
    },
    {
      "cell_type": "code",
      "source": [
        "def full_err_processing(denom):\n",
        "  res = ''\n",
        "  try:\n",
        "    res += f\"Результат: {1/denom}\\n\"\n",
        "  except Exception as err:\n",
        "    res += f\"{repr(err)}\\n\"\n",
        "  else: res += 'Ошибок не было!\\n'\n",
        "  finally: res += 'Главное, все подошло к концу!'\n",
        "  return res"
      ],
      "metadata": {
        "id": "d2k7tb8b5NeQ"
      },
      "execution_count": null,
      "outputs": []
    },
    {
      "cell_type": "code",
      "source": [
        "def create_dict(**kwargs):\n",
        "  dict_new ={}\n",
        "  for key, val in kwargs.items():\n",
        "    dict_new[key] = val\n",
        "  return dict_new"
      ],
      "metadata": {
        "id": "U6vB7SmGLHxh"
      },
      "execution_count": null,
      "outputs": []
    },
    {
      "cell_type": "code",
      "source": [
        "create_dict(x=10, y=None, z=20)"
      ],
      "metadata": {
        "colab": {
          "base_uri": "https://localhost:8080/"
        },
        "id": "TopVLxU_Lr_2",
        "outputId": "019c490a-116f-4818-c94b-de673cfa1fdb"
      },
      "execution_count": null,
      "outputs": [
        {
          "output_type": "execute_result",
          "data": {
            "text/plain": [
              "{'x': 10, 'y': None, 'z': 20}"
            ]
          },
          "metadata": {},
          "execution_count": 46
        }
      ]
    },
    {
      "cell_type": "code",
      "source": [
        "\n",
        "def auto_print (*args, **way):\n",
        "  for el in args:\n",
        "    print(*el, ** way)"
      ],
      "metadata": {
        "id": "c1d4X5rmNvBq"
      },
      "execution_count": null,
      "outputs": []
    },
    {
      "cell_type": "code",
      "source": [
        "auto_print([1,2,3], [4,5,6], [7,8,9], sep=', ', end='; ')"
      ],
      "metadata": {
        "colab": {
          "base_uri": "https://localhost:8080/"
        },
        "id": "FjYu2_WDN6zS",
        "outputId": "953d8e0a-f6d4-47f7-f343-de290638af2e"
      },
      "execution_count": null,
      "outputs": [
        {
          "output_type": "stream",
          "name": "stdout",
          "text": [
            "1, 2, 3; 4, 5, 6; 7, 8, 9; "
          ]
        }
      ]
    },
    {
      "cell_type": "code",
      "source": [
        "def sum_ints(*lists):\n",
        "  return sum(el if isinstance(el, int) else sum_ints(*el) if isinstance(el, (list, tuple)) else sum(v for v in el.values() if isinstance(v, int)) if isinstance(el, dict) else 0 for el in lists)\n"
      ],
      "metadata": {
        "id": "a-Q40aIZgGSC"
      },
      "execution_count": null,
      "outputs": []
    },
    {
      "cell_type": "code",
      "source": [
        "sum_ints([1, [2.1, 3.6], (4.2, 5.3, [6])], {'a': 7.8, 'b': [8, {'c': 9}]})"
      ],
      "metadata": {
        "colab": {
          "base_uri": "https://localhost:8080/"
        },
        "id": "St-xVn92h22a",
        "outputId": "fa984e46-7de8-448f-f8f8-b9d9cc4d9fe7"
      },
      "execution_count": null,
      "outputs": [
        {
          "output_type": "execute_result",
          "data": {
            "text/plain": [
              "7"
            ]
          },
          "metadata": {},
          "execution_count": 69
        }
      ]
    },
    {
      "cell_type": "code",
      "source": [
        "def check_greater (*args, **kwargs):\n"
      ],
      "metadata": {
        "id": "f0kGd7MZqv5T"
      },
      "execution_count": null,
      "outputs": []
    },
    {
      "cell_type": "code",
      "source": [
        "lst2 = [10, 20, 30]\n",
        "threshold=25\n",
        "\n",
        "from functools import reduce"
      ],
      "metadata": {
        "id": "ZBKtLajErBS2"
      },
      "execution_count": null,
      "outputs": []
    },
    {
      "cell_type": "code",
      "source": [
        "def check_greater(*args, **kwargs):\n",
        "    strict = kwargs.get('strict')\n",
        "    max = reduce(lambda x, y: x if x > y  else y, args)\n",
        "    min = reduce(lambda x, y: x if x < y  else y, args)\n",
        "    if strict == True:\n",
        "      return True if max >= threshold and min >= threshold else False\n",
        "    else:\n",
        "      return True if max > threshold and min > threshold else False"
      ],
      "metadata": {
        "id": "gusdUSPfrLGr"
      },
      "execution_count": null,
      "outputs": []
    },
    {
      "cell_type": "code",
      "source": [
        "#Напишите функцию most_frequent_weekday, которая принимает список дат в формате год-месяц-день и возвращает самый часто встречающийся день недели в этом списке (например, \"Monday\").\n",
        "#Если несколько дней встречаются одинаково часто, функция должна вернуть все эти дни."
      ],
      "metadata": {
        "id": "1R2uy420v2U0"
      },
      "execution_count": null,
      "outputs": []
    },
    {
      "cell_type": "code",
      "source": [
        "from datetime import date\n",
        "from datetime import datetime\n",
        "from collections import Counter"
      ],
      "metadata": {
        "id": "XiP1MqXZGryh"
      },
      "execution_count": null,
      "outputs": []
    },
    {
      "cell_type": "code",
      "source": [
        "lst_days = ['2023-02-28', '2023-03-01', '2023-03-07', '2023-03-08']"
      ],
      "metadata": {
        "id": "Xug7wceJ0f4w"
      },
      "execution_count": null,
      "outputs": []
    },
    {
      "cell_type": "code",
      "source": [
        "lst_dates2 = [datetime.strptime(el,'%Y-%m-%d').strftime('%A') for el in lst_days]"
      ],
      "metadata": {
        "id": "nyutPFpwtjo-"
      },
      "execution_count": null,
      "outputs": []
    },
    {
      "cell_type": "code",
      "source": [
        "lst_dates2"
      ],
      "metadata": {
        "colab": {
          "base_uri": "https://localhost:8080/"
        },
        "id": "5r9vsCIZETIA",
        "outputId": "fc569926-62d2-4ac4-a20d-e90c56365a2c"
      },
      "execution_count": null,
      "outputs": [
        {
          "output_type": "execute_result",
          "data": {
            "text/plain": [
              "['Tuesday', 'Wednesday', 'Tuesday', 'Wednesday']"
            ]
          },
          "metadata": {},
          "execution_count": 6
        }
      ]
    },
    {
      "cell_type": "code",
      "source": [
        "\n",
        "cnt_days = Counter(lst_dates2)\n",
        "max_days = max(cnt_days.values())"
      ],
      "metadata": {
        "id": "At0yZ6w4G8z_"
      },
      "execution_count": null,
      "outputs": []
    },
    {
      "cell_type": "code",
      "source": [
        "lst_filtered = [el[0] for el in cnt_days.items() if el[1] == max_days]\n",
        "lst_filtered"
      ],
      "metadata": {
        "colab": {
          "base_uri": "https://localhost:8080/"
        },
        "id": "8dgwZg0EKoHY",
        "outputId": "b297cd48-b301-4f05-91e7-821a9ea634df"
      },
      "execution_count": null,
      "outputs": [
        {
          "output_type": "execute_result",
          "data": {
            "text/plain": [
              "['Tuesday', 'Wednesday']"
            ]
          },
          "metadata": {},
          "execution_count": 18
        }
      ]
    },
    {
      "cell_type": "code",
      "source": [
        "def get_weekdays(lst):\n",
        "    return [datetime.strptime(el,'%Y-%m-%d').strftime('%A') for el in lst]"
      ],
      "metadata": {
        "id": "m9r8_02QHfdJ"
      },
      "execution_count": null,
      "outputs": []
    },
    {
      "cell_type": "code",
      "source": [
        "print(get_weekdays(['2023-06-01', '2023-06-02', '2023-06-03']))"
      ],
      "metadata": {
        "colab": {
          "base_uri": "https://localhost:8080/"
        },
        "id": "XhWWsWaGHhuM",
        "outputId": "bf566a83-5f2c-4497-e069-92f6b3e86c2e"
      },
      "execution_count": null,
      "outputs": [
        {
          "output_type": "stream",
          "name": "stdout",
          "text": [
            "['Thursday', 'Friday', 'Saturday']\n"
          ]
        }
      ]
    },
    {
      "cell_type": "code",
      "source": [
        "lst_2 = ['2023-05-28 12:00:00', '2023-05-28 13:00:00', '2023-05-28 14:00:00', '2023-05-28 15:00:00']"
      ],
      "metadata": {
        "id": "9ZTKv57lhZke"
      },
      "execution_count": null,
      "outputs": []
    },
    {
      "cell_type": "code",
      "source": [
        "datetime.strptime(lst_2[1], '%Y-%m-%d %H:%M:%S') - datetime.strptime(lst_2[0], '%Y-%m-%d %H:%M:%S')"
      ],
      "metadata": {
        "colab": {
          "base_uri": "https://localhost:8080/"
        },
        "id": "ZfpYICQupGER",
        "outputId": "9a5d6180-fe59-4e9f-e04a-3149016467d9"
      },
      "execution_count": null,
      "outputs": [
        {
          "output_type": "execute_result",
          "data": {
            "text/plain": [
              "datetime.timedelta(seconds=3600)"
            ]
          },
          "metadata": {},
          "execution_count": 25
        }
      ]
    },
    {
      "cell_type": "code",
      "source": [
        "from datetime import datetime, timedelta"
      ],
      "metadata": {
        "id": "GziwJxFWuSYc"
      },
      "execution_count": null,
      "outputs": []
    },
    {
      "cell_type": "code",
      "source": [
        "def avg_time_diff (lst):\n",
        "  if len(lst) == 1:\n",
        "    return float(0)\n",
        "  else:\n",
        "    diffs = [datetime.strptime(lst[i], '%Y-%m-%d %H:%M:%S') - datetime.strptime(lst[i-1], '%Y-%m-%d %H:%M:%S') for i in range(1, len(lst))]\n",
        "    total_diffs = sum(diffs, timedelta())\n",
        "    total_diffs = total_diffs/len(diffs)\n",
        "  return total_diffs.total_seconds()\n"
      ],
      "metadata": {
        "id": "wubkd47hoUKy"
      },
      "execution_count": null,
      "outputs": []
    },
    {
      "cell_type": "code",
      "source": [
        "diffs = [datetime.strptime(lst_2[i], '%Y-%m-%d %H:%M:%S') - datetime.strptime(lst_2[i-1], '%Y-%m-%d %H:%M:%S') for i in range(1, len(lst_2))]\n",
        "total_diffs = sum(diffs, timedelta())\n",
        "total_diffs = total_diffs/len(diffs)\n",
        "total_diffs"
      ],
      "metadata": {
        "colab": {
          "base_uri": "https://localhost:8080/"
        },
        "id": "5jzjoq48qzAd",
        "outputId": "7eba9200-ccde-4a36-9540-54a02ab7cccf"
      },
      "execution_count": null,
      "outputs": [
        {
          "output_type": "execute_result",
          "data": {
            "text/plain": [
              "datetime.timedelta(seconds=3600)"
            ]
          },
          "metadata": {},
          "execution_count": 33
        }
      ]
    },
    {
      "cell_type": "code",
      "source": [
        "lst3 = ['2022-01-01 09:00:00', '2022-01-01 09:15:00', '2022-01-01 09:45:00']"
      ],
      "metadata": {
        "id": "dVvW6g8q22Bq"
      },
      "execution_count": null,
      "outputs": []
    },
    {
      "cell_type": "code",
      "source": [
        "diffs = [datetime.strptime(lst3[i], '%Y-%m-%d %H:%M:%S') - datetime.strptime(lst3[i-1], '%Y-%m-%d %H:%M:%S') for i in range(1, len(lst3))]"
      ],
      "metadata": {
        "id": "RgMXy6Gj29Dn"
      },
      "execution_count": null,
      "outputs": []
    }
  ]
}