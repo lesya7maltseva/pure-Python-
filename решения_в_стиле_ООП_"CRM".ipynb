{
  "nbformat": 4,
  "nbformat_minor": 0,
  "metadata": {
    "colab": {
      "provenance": [],
      "include_colab_link": true
    },
    "kernelspec": {
      "name": "python3",
      "display_name": "Python 3"
    },
    "language_info": {
      "name": "python"
    }
  },
  "cells": [
    {
      "cell_type": "markdown",
      "metadata": {
        "id": "view-in-github",
        "colab_type": "text"
      },
      "source": [
        "<a href=\"https://colab.research.google.com/github/lesya7maltseva/pure-Python-/blob/main/%D1%80%D0%B5%D1%88%D0%B5%D0%BD%D0%B8%D1%8F_%D0%B2_%D1%81%D1%82%D0%B8%D0%BB%D0%B5_%D0%9E%D0%9E%D0%9F_%22CRM%22.ipynb\" target=\"_parent\"><img src=\"https://colab.research.google.com/assets/colab-badge.svg\" alt=\"Open In Colab\"/></a>"
      ]
    },
    {
      "cell_type": "markdown",
      "source": [
        "## **3 кейс**\n",
        "\n",
        "**CRM**"
      ],
      "metadata": {
        "id": "XUqCUBW5fUST"
      }
    },
    {
      "cell_type": "markdown",
      "source": [
        "### **Решения**"
      ],
      "metadata": {
        "id": "CxmnD3GvffQ4"
      }
    },
    {
      "cell_type": "markdown",
      "source": [
        "#### **Задача 1**\n",
        "\n",
        "Создайте класс `Lead`."
      ],
      "metadata": {
        "id": "5bdLXu2ksLB7"
      }
    },
    {
      "cell_type": "markdown",
      "source": [
        "**Решение**\n",
        "\n",
        "Напишите свое решение ниже"
      ],
      "metadata": {
        "id": "qUL4LtIUnJge"
      }
    },
    {
      "cell_type": "code",
      "source": [
        "class Lead:\n",
        "  def __init__(self, lead_id, datetime, page, form_title, contacts, name):\n",
        "    # проверку бы сюда того что вводят\n",
        "    self._lead_id = lead_id\n",
        "    self._datetime = datetime\n",
        "    self._page = page\n",
        "    self._from_title = form_title\n",
        "    self._contacts = contacts\n",
        "    self._name = name\n",
        "\n",
        "  def to_dict(self):\n",
        "    return {'lead_id': self._lead_id, 'datetime': self._datetime, 'page': self._page, 'form_title': self._from_title, 'contacts': self._contacts, 'name': self._name}\n",
        "  ...\n"
      ],
      "metadata": {
        "id": "Ia39hhmZbNRW"
      },
      "execution_count": null,
      "outputs": []
    },
    {
      "cell_type": "markdown",
      "source": [
        "#### **Задача 2**\n",
        "\n",
        "Создайте класс `Simulator`."
      ],
      "metadata": {
        "id": "QLNMvvhXoIdV"
      }
    },
    {
      "cell_type": "markdown",
      "source": [
        "**Решение**\n",
        "\n",
        "Напишите свое решение ниже"
      ],
      "metadata": {
        "id": "LThhpSINoMHN"
      }
    },
    {
      "cell_type": "code",
      "source": [
        "class Simulator:\n",
        "  def __init__(self, simulator_type, version):\n",
        "    self._simulator_type = simulator_type\n",
        "    self._version = version\n",
        "\n",
        "  def to_dict(self):\n",
        "    return {'simulator_type': self._simulator_type, 'version': self._version}\n",
        "  ...\n"
      ],
      "metadata": {
        "id": "9s8JBMlboJuf"
      },
      "execution_count": null,
      "outputs": []
    },
    {
      "cell_type": "markdown",
      "source": [
        "#### **Задача 3**\n",
        "\n",
        "Определите класс `SalesFunnel`. Пока без метода `process_lead`."
      ],
      "metadata": {
        "id": "AwB-HtPLtjyl"
      }
    },
    {
      "cell_type": "markdown",
      "source": [
        "**Решение**\n",
        "\n",
        "Напишите свое решение ниже"
      ],
      "metadata": {
        "id": "GOTB--hmt2xw"
      }
    },
    {
      "cell_type": "code",
      "source": [
        "\n",
        "class SalesFunnel:\n",
        "  def __init__(self):\n",
        "     self._stages = []\n",
        "\n",
        "  def add_stage(self, stage):\n",
        "    self._stages.append(stage)\n",
        "\n",
        "  @property\n",
        "  def stages(self):\n",
        "    return self._stages\n",
        "  ...\n"
      ],
      "metadata": {
        "id": "fz7nRb_ntKMv"
      },
      "execution_count": null,
      "outputs": []
    },
    {
      "cell_type": "markdown",
      "source": [
        "#### **Задача 4**\n",
        "\n",
        "К классу `SalesFunnel` добавьте метод `process_lead`."
      ],
      "metadata": {
        "id": "CgRs9f--z9N-"
      }
    },
    {
      "cell_type": "markdown",
      "source": [
        "**Решение**\n",
        "\n",
        "Напишите свое решение ниже"
      ],
      "metadata": {
        "id": "HAC66WJB0DtG"
      }
    },
    {
      "cell_type": "code",
      "source": [
        "import requests\n",
        "class SalesFunnel:\n",
        "  def __init__(self, *args):\n",
        "    if args:\n",
        "      self._stages = args\n",
        "    else:\n",
        "     self._stages = []\n",
        "\n",
        "  def add_stage(self, stage):\n",
        "    self._stages.append(stage)\n",
        "\n",
        "  @property\n",
        "  def stages(self):\n",
        "    return self._stages\n",
        "\n",
        "  def process_lead(self, lead):\n",
        "    crm_url = \"https://itresume.com/crm/api/leads\"\n",
        "    dict_lead = lead.to_dict()\n",
        "    lst_funel = []\n",
        "    for i, stage in enumerate(sales_funnel.stages):\n",
        "          if i == 0:\n",
        "            lst_funel.append(f\"Обработка лида { dict_lead.get('lead_id') } - Текущий этап: {stage[i]}\")\n",
        "          response = requests.post(crm_url, json=lead.to_dict())\n",
        "          if response.status_code == 200:\n",
        "            lst_funel.append('Данные лида успешно отправлены в CRM')\n",
        "          else:\n",
        "            lst_funel.append('Не удалось отправить данные лида в CRM')\n",
        "            lst_funel.append(f\"Перемещаем лид {dict_lead.get('lead_id')} на следующий этап: {stage[i+1]}\")\n",
        "    return lst_funel\n"
      ],
      "metadata": {
        "id": "63tUPEeLz5e1"
      },
      "execution_count": null,
      "outputs": []
    }
  ]
}