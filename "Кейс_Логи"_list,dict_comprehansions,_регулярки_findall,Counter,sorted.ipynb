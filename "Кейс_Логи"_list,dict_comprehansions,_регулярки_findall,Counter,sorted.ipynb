{
  "nbformat": 4,
  "nbformat_minor": 0,
  "metadata": {
    "colab": {
      "provenance": [],
      "include_colab_link": true
    },
    "kernelspec": {
      "name": "python3",
      "display_name": "Python 3"
    },
    "language_info": {
      "name": "python"
    }
  },
  "cells": [
    {
      "cell_type": "markdown",
      "metadata": {
        "id": "view-in-github",
        "colab_type": "text"
      },
      "source": [
        "<a href=\"https://colab.research.google.com/github/lesya7maltseva/pure-Python-/blob/main/%22%D0%9A%D0%B5%D0%B9%D1%81_%D0%9B%D0%BE%D0%B3%D0%B8%22_list%2Cdict_comprehansions%2C_%D1%80%D0%B5%D0%B3%D1%83%D0%BB%D1%8F%D1%80%D0%BA%D0%B8_findall%2CCounter%2Csorted.ipynb\" target=\"_parent\"><img src=\"https://colab.research.google.com/assets/colab-badge.svg\" alt=\"Open In Colab\"/></a>"
      ]
    },
    {
      "cell_type": "markdown",
      "source": [
        "## **1 кейс**\n",
        "\n",
        "**Работа с логами**"
      ],
      "metadata": {
        "id": "XUqCUBW5fUST"
      }
    },
    {
      "cell_type": "markdown",
      "source": [
        "**Важно**\n",
        "\n",
        "Перед началом решения выполните следующую ячейку, чтобы загрузить необходимый для работы файл."
      ],
      "metadata": {
        "id": "OcK9kF9mfZIt"
      }
    },
    {
      "cell_type": "code",
      "execution_count": 2,
      "metadata": {
        "id": "KtNBw8nOfPsB",
        "outputId": "facaf3a9-e74e-4c04-e8be-e8dcd1385018",
        "colab": {
          "base_uri": "https://localhost:8080/"
        },
        "collapsed": true
      },
      "outputs": [
        {
          "output_type": "stream",
          "name": "stdout",
          "text": [
            "--2025-02-26 04:23:59--  https://gist.github.com/Vs8th/38d5d914171c84166728a9746d212bad/raw/auto_purchase.log\n",
            "Resolving gist.github.com (gist.github.com)... 140.82.113.3\n",
            "Connecting to gist.github.com (gist.github.com)|140.82.113.3|:443... connected.\n",
            "HTTP request sent, awaiting response... 301 Moved Permanently\n",
            "Location: https://gist.githubusercontent.com/Vs8th/38d5d914171c84166728a9746d212bad/raw/auto_purchase.log [following]\n",
            "--2025-02-26 04:23:59--  https://gist.githubusercontent.com/Vs8th/38d5d914171c84166728a9746d212bad/raw/auto_purchase.log\n",
            "Resolving gist.githubusercontent.com (gist.githubusercontent.com)... 185.199.108.133, 185.199.110.133, 185.199.111.133, ...\n",
            "Connecting to gist.githubusercontent.com (gist.githubusercontent.com)|185.199.108.133|:443... connected.\n",
            "HTTP request sent, awaiting response... 200 OK\n",
            "Length: 459418 (449K) [text/plain]\n",
            "Saving to: ‘auto_purchase.log’\n",
            "\n",
            "auto_purchase.log   100%[===================>] 448.65K  --.-KB/s    in 0.04s   \n",
            "\n",
            "2025-02-26 04:24:00 (9.97 MB/s) - ‘auto_purchase.log’ saved [459418/459418]\n",
            "\n"
          ]
        }
      ],
      "source": [
        "!wget https://gist.github.com/Vs8th/38d5d914171c84166728a9746d212bad/raw/auto_purchase.log"
      ]
    },
    {
      "cell_type": "markdown",
      "source": [
        "Чтобы посмотреть как он выглядит выполните следующую ячейку."
      ],
      "metadata": {
        "id": "JIwIK2E5fcyA"
      }
    },
    {
      "cell_type": "code",
      "source": [
        "with open('auto_purchase.log', 'r') as f:\n",
        "    lines = f.readlines()\n",
        "\n",
        "for line in lines[400:550]:\n",
        "    print(line)"
      ],
      "metadata": {
        "id": "6f84pObFfbGE"
      },
      "execution_count": null,
      "outputs": []
    },
    {
      "cell_type": "markdown",
      "source": [
        "### **Решения**"
      ],
      "metadata": {
        "id": "CxmnD3GvffQ4"
      }
    },
    {
      "cell_type": "markdown",
      "source": [
        "#### **Задача 1**\n",
        "\n",
        "Ваша задача написать функцию `count_success_and_failure`, которая принимает на вход путь к файлу с логами и подсчитывает количество успешных продлений и ошибок при списании. Функция должна вернуть кортеж из двух значений: количества успешных попыток и неуспешных."
      ],
      "metadata": {
        "id": "5bdLXu2ksLB7"
      }
    },
    {
      "cell_type": "markdown",
      "source": [
        "**Решение**\n",
        "\n",
        "Напишите свое решение ниже"
      ],
      "metadata": {
        "id": "qUL4LtIUnJge"
      }
    },
    {
      "cell_type": "code",
      "source": [
        "import re\n",
        "from collections import Counter\n",
        "from statistics import median\n",
        "import datetime\n",
        "from datetime import datetime"
      ],
      "metadata": {
        "id": "49XGRiyb8UIn"
      },
      "execution_count": 4,
      "outputs": []
    },
    {
      "cell_type": "code",
      "source": [
        "\n",
        "def count_success_and_failure(file_path):\n",
        "    with open(file_path, 'r') as f:\n",
        "      lines = f.readlines()\n",
        "    lst_ = [re.findall(r'Обновляем подписку|ошибка при списании', l)  for l in lines ]\n",
        "    lst_2 = [k for el in lst_ for k in el]\n",
        "    dict_payments = Counter(lst_2)\n",
        "    dict_payments['Обновляем подписку'] = dict_payments['Обновляем подписку'] - dict_payments.get('ошибка при списании')\n",
        "    return tuple(dict_payments.values())\n",
        "    ...\n",
        "\n",
        "count_success_and_failure('auto_purchase.log')"
      ],
      "metadata": {
        "id": "Ia39hhmZbNRW",
        "colab": {
          "base_uri": "https://localhost:8080/"
        },
        "outputId": "a8d696f0-71ee-4c58-bb98-e0cbac138468"
      },
      "execution_count": null,
      "outputs": [
        {
          "output_type": "execute_result",
          "data": {
            "text/plain": [
              "(1034, 186)"
            ]
          },
          "metadata": {},
          "execution_count": 93
        }
      ]
    },
    {
      "cell_type": "markdown",
      "source": [
        "#### **Задача 2**\n",
        "\n",
        "Ваша задача написать функцию `auto_renewal_sub`, которая принимает на вход путь к файлу с логами и обрабатывает количество клиентов с автопродлением подписки. Мы хотим посмотреть на изменение этого показателя в динамике: посчитайте сглаженные значения с помощью метода скользящего среднего и метода медианного сглаживания.  \n",
        "\n",
        "**Примечание:** При сглаживании берем все предыдущие значения, включая текущее, будущие значения не берем. Если в один день наблюдаем несколько записей об автопродлении - берем максимальное из имеющихся число клиентов с подпиской.\n",
        "\n",
        "Функция должна записать в файл `auto_renewal_sub.txt` два списка, предварив их соответствущими обозначениями:\n",
        "\n",
        "`Среднее: [2.0, 1.0, 0.67...]`\n",
        "\n",
        "`Медиана: [2, 2, 0...]`"
      ],
      "metadata": {
        "id": "QLNMvvhXoIdV"
      }
    },
    {
      "cell_type": "markdown",
      "source": [
        "**Решение**\n",
        "\n",
        "Напишите свое решение ниже"
      ],
      "metadata": {
        "id": "LThhpSINoMHN"
      }
    },
    {
      "cell_type": "code",
      "source": [
        "def auto_renewal_sub(log_file_path):\n",
        "    with open(log_file_path) as f:\n",
        "      lines = f.readlines()\n",
        "\n",
        "    # собираем словарь, вытаскивая регулярками дату и сколько было пользователей\n",
        "    dict_raw ={}\n",
        "    for l in lines:\n",
        "      key = re.findall(r'\\d{4}-\\d{2}-\\d{2},',l)\n",
        "      if key:\n",
        "        val = re.findall(r'\\d{1}\\n|\\d{2}\\n',l)\n",
        "        if key[0][:-1] in dict_raw.keys():\n",
        "          dict_raw[key[0][:-1]].append(int(val[0].strip()))\n",
        "        else: dict_raw[key[0][:-1]] = [int(val[0].strip())]\n",
        "\n",
        "    # переделываем ключи из даты в числа для следующей логики\n",
        "    dict_avg = {key: [max(val)] for key, val in zip(range(1, len(dict_raw)+1) ,dict_raw.values())}\n",
        "\n",
        "    #собираем для подсчета накопительный итог:\n",
        "    dict_cumulative = {}\n",
        "    for key, val in dict_avg.items():\n",
        "      if key>1:\n",
        "        dict_cumulative[key] = val + dict_cumulative[key-1]\n",
        "      else: dict_cumulative[key] = val\n",
        "\n",
        "    #список со средним арифметическим\n",
        "    lst_avg = [round(sum(el)/len(el),2) for el in dict_cumulative.values()]\n",
        "\n",
        "    #список с медианой\n",
        "    lst_avg_med = [int(median(el)) for el in dict_cumulative.values()]\n",
        "\n",
        "    #Пишем в файл:\n",
        "    with open('auto_renewal_sub.txt', 'w') as f:\n",
        "      f.write(f\"Среднее: {lst_avg}\\n\")\n",
        "      f.write(f\"Медиана: {lst_avg_med}\")\n",
        "\n",
        "    ...\n",
        "\n",
        "auto_renewal_sub('auto_purchase.log')"
      ],
      "metadata": {
        "id": "9s8JBMlboJuf"
      },
      "execution_count": 5,
      "outputs": []
    },
    {
      "cell_type": "markdown",
      "source": [
        "#### **Задача 3**\n",
        "\n",
        "Напишите функцию `sub_renewal_by_day`, которая принимает на вход путь к файлу с логами и анализирует взаимосвязь дня продления подписки и количества продлений в этот день. Функция должна записать в файл `weekdays.txt` аналитическую записку в формате:\n",
        "\n",
        "**`Количество обновлений подписки по дням недели:`**\n",
        "\n",
        "**`Понедельник: 6`**\n",
        "\n",
        "**`Вторник: 7`**\n",
        "\n",
        "**`Среда: 8`**\n",
        "\n",
        "**`...`**"
      ],
      "metadata": {
        "id": "AwB-HtPLtjyl"
      }
    },
    {
      "cell_type": "markdown",
      "source": [],
      "metadata": {
        "id": "R3KH9m6b8i-n"
      }
    },
    {
      "cell_type": "markdown",
      "source": [
        "**Решение**\n",
        "\n",
        "Напишите свое решение ниже"
      ],
      "metadata": {
        "id": "GOTB--hmt2xw"
      }
    },
    {
      "cell_type": "code",
      "source": [
        "\n",
        "def sub_renewal_by_day(file_path):\n",
        "    with open(file_path, 'r') as f:\n",
        "      lst_lines = f.readlines()\n",
        "\n",
        "    # убираем тех, кто не оплатил\n",
        "    for i in range(len(lst_lines)):\n",
        "      if i < len(lst_lines) - 1 :\n",
        "        if lst_lines[i+1].startswith('ERROR'): lst_lines.pop(i)\n",
        "    lst_dates = []\n",
        "\n",
        "    # выбираем только логи оплаты и собираем даты в новый список\n",
        "    for line in lst_lines:\n",
        "      str_check = re.findall(r'\\d{4}-\\d{2}-\\d{2}[\\s\\S]*payment_method_id:',line)\n",
        "      if str_check: lst_dates.append(re.findall(r'\\d{4}-\\d{2}-\\d{2}',line)[0])\n",
        "\n",
        "    # Переделываем даты в номер дня\n",
        "    lst_days = [datetime.strptime(dt, '%Y-%m-%d').weekday() for dt in lst_dates]\n",
        "\n",
        "    #Считаем сколько в какой день подписок. Уииии Counter\n",
        "    dict_count = Counter(lst_days)\n",
        "    dict_count = dict(sorted(dict_count.items()))\n",
        "    dict_days = {0: 'Понедельник', 1:'Вторник', 2: 'Среда', 3: 'Четверг', 4: 'Пятница', 5: 'Суббота', 6: 'Воскресенье' }\n",
        "\n",
        "    with open('weekdays.txt', 'w') as f:\n",
        "      f.write('Количество обновлений подписки по дням недели:')\n",
        "      for key, val in dict_count.items():\n",
        "        f.write('\\n')\n",
        "        f.write(f\"{dict_days.get(key)}: {val}\")\n",
        "\n",
        "    ...\n",
        "\n",
        "sub_renewal_by_day('auto_purchase.log')"
      ],
      "metadata": {
        "id": "fz7nRb_ntKMv"
      },
      "execution_count": null,
      "outputs": []
    }
  ]
}