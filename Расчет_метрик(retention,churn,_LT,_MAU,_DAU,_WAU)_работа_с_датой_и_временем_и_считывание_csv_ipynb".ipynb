{
  "nbformat": 4,
  "nbformat_minor": 0,
  "metadata": {
    "colab": {
      "provenance": [],
      "collapsed_sections": [
        "s2g2hxfMzqLo",
        "TbkdEVLI0Cor",
        "wxkhEVmF0PAo",
        "OrwoZ-wR0jJq"
      ],
      "include_colab_link": true
    },
    "kernelspec": {
      "name": "python3",
      "display_name": "Python 3"
    },
    "language_info": {
      "name": "python"
    }
  },
  "cells": [
    {
      "cell_type": "markdown",
      "metadata": {
        "id": "view-in-github",
        "colab_type": "text"
      },
      "source": [
        "<a href=\"https://colab.research.google.com/github/lesya7maltseva/pure-Python-/blob/main/%D0%A0%D0%B0%D1%81%D1%87%D0%B5%D1%82_%D0%BC%D0%B5%D1%82%D1%80%D0%B8%D0%BA(retention%2Cchurn%2C_LT%2C_MAU%2C_DAU%2C_WAU)_%D1%80%D0%B0%D0%B1%D0%BE%D1%82%D0%B0_%D1%81_%D0%B4%D0%B0%D1%82%D0%BE%D0%B9_%D0%B8_%D0%B2%D1%80%D0%B5%D0%BC%D0%B5%D0%BD%D0%B5%D0%BC_%D0%B8_%D1%81%D1%87%D0%B8%D1%82%D1%8B%D0%B2%D0%B0%D0%BD%D0%B8%D0%B5_csv_ipynb%22.ipynb\" target=\"_parent\"><img src=\"https://colab.research.google.com/assets/colab-badge.svg\" alt=\"Open In Colab\"/></a>"
      ]
    },
    {
      "cell_type": "markdown",
      "source": [
        "## 3 кейс\n",
        "\n",
        "**В этом кейсе вы будете рассчитывать:**\n",
        "* retention\n",
        "* rolling retention\n",
        "* lifetime\n",
        "* churn rate\n",
        "* mau\n",
        "* wau\n",
        "* dau"
      ],
      "metadata": {
        "id": "T_xBU6WvyPhY"
      }
    },
    {
      "cell_type": "markdown",
      "source": [
        "**Важно**\n",
        "\n",
        "Перед началом решения задачи выполните следующую ячейку - в ней скачиваются нужные файлы"
      ],
      "metadata": {
        "id": "U2D5zGSdzc92"
      }
    },
    {
      "cell_type": "code",
      "execution_count": null,
      "metadata": {
        "id": "3eJFMuMpyCp-",
        "colab": {
          "base_uri": "https://localhost:8080/"
        },
        "outputId": "994841cc-cf62-4874-dea3-710f00122704",
        "collapsed": true
      },
      "outputs": [
        {
          "output_type": "stream",
          "name": "stdout",
          "text": [
            "--2025-01-11 11:47:38--  https://gist.github.com/Vs8th/739269a03f2f4a7396d04d6739da3771/raw/registrations.csv\n",
            "Resolving gist.github.com (gist.github.com)... 140.82.112.3\n",
            "Connecting to gist.github.com (gist.github.com)|140.82.112.3|:443... connected.\n",
            "HTTP request sent, awaiting response... 301 Moved Permanently\n",
            "Location: https://gist.githubusercontent.com/Vs8th/739269a03f2f4a7396d04d6739da3771/raw/registrations.csv [following]\n",
            "--2025-01-11 11:47:38--  https://gist.githubusercontent.com/Vs8th/739269a03f2f4a7396d04d6739da3771/raw/registrations.csv\n",
            "Resolving gist.githubusercontent.com (gist.githubusercontent.com)... 185.199.108.133, 185.199.109.133, 185.199.110.133, ...\n",
            "Connecting to gist.githubusercontent.com (gist.githubusercontent.com)|185.199.108.133|:443... connected.\n",
            "HTTP request sent, awaiting response... 200 OK\n",
            "Length: 14918 (15K) [text/plain]\n",
            "Saving to: ‘registrations.csv’\n",
            "\n",
            "\rregistrations.csv     0%[                    ]       0  --.-KB/s               \rregistrations.csv   100%[===================>]  14.57K  --.-KB/s    in 0s      \n",
            "\n",
            "2025-01-11 11:47:38 (106 MB/s) - ‘registrations.csv’ saved [14918/14918]\n",
            "\n",
            "--2025-01-11 11:47:38--  https://gist.github.com/Vs8th/aacb80595d1d6aaa2e31eb735f8bc644/raw/entries.csv\n",
            "Resolving gist.github.com (gist.github.com)... 140.82.112.3\n",
            "Connecting to gist.github.com (gist.github.com)|140.82.112.3|:443... connected.\n",
            "HTTP request sent, awaiting response... 301 Moved Permanently\n",
            "Location: https://gist.githubusercontent.com/Vs8th/aacb80595d1d6aaa2e31eb735f8bc644/raw/entries.csv [following]\n",
            "--2025-01-11 11:47:38--  https://gist.githubusercontent.com/Vs8th/aacb80595d1d6aaa2e31eb735f8bc644/raw/entries.csv\n",
            "Resolving gist.githubusercontent.com (gist.githubusercontent.com)... 185.199.108.133, 185.199.109.133, 185.199.110.133, ...\n",
            "Connecting to gist.githubusercontent.com (gist.githubusercontent.com)|185.199.108.133|:443... connected.\n",
            "HTTP request sent, awaiting response... 200 OK\n",
            "Length: 308588 (301K) [text/plain]\n",
            "Saving to: ‘entries.csv’\n",
            "\n",
            "entries.csv         100%[===================>] 301.36K  --.-KB/s    in 0.007s  \n",
            "\n",
            "2025-01-11 11:47:38 (44.6 MB/s) - ‘entries.csv’ saved [308588/308588]\n",
            "\n",
            "--2025-01-11 11:47:38--  https://gist.github.com/Vs8th/0e827e9a608117345dd6585ab81e8c86/raw/metrics.txt\n",
            "Resolving gist.github.com (gist.github.com)... 140.82.112.3\n",
            "Connecting to gist.github.com (gist.github.com)|140.82.112.3|:443... connected.\n",
            "HTTP request sent, awaiting response... 301 Moved Permanently\n",
            "Location: https://gist.githubusercontent.com/Vs8th/0e827e9a608117345dd6585ab81e8c86/raw/metrics.txt [following]\n",
            "--2025-01-11 11:47:38--  https://gist.githubusercontent.com/Vs8th/0e827e9a608117345dd6585ab81e8c86/raw/metrics.txt\n",
            "Resolving gist.githubusercontent.com (gist.githubusercontent.com)... 185.199.108.133, 185.199.109.133, 185.199.110.133, ...\n",
            "Connecting to gist.githubusercontent.com (gist.githubusercontent.com)|185.199.108.133|:443... connected.\n",
            "HTTP request sent, awaiting response... 200 OK\n",
            "Length: 67 [text/plain]\n",
            "Saving to: ‘metrics.txt’\n",
            "\n",
            "metrics.txt         100%[===================>]      67  --.-KB/s    in 0s      \n",
            "\n",
            "2025-01-11 11:47:38 (3.64 MB/s) - ‘metrics.txt’ saved [67/67]\n",
            "\n"
          ]
        }
      ],
      "source": [
        "!wget https://gist.github.com/Vs8th/739269a03f2f4a7396d04d6739da3771/raw/registrations.csv\n",
        "\n",
        "!wget https://gist.github.com/Vs8th/aacb80595d1d6aaa2e31eb735f8bc644/raw/entries.csv\n",
        "\n",
        "!wget https://gist.github.com/Vs8th/0e827e9a608117345dd6585ab81e8c86/raw/metrics.txt"
      ]
    },
    {
      "cell_type": "markdown",
      "source": [
        "Файлами для работы являются `registrations.csv` и `entries.csv`. В них хранятся данные о регистрациях пользователей и входа на платформу соответственно."
      ],
      "metadata": {
        "id": "vnMFicli7Fa7"
      }
    },
    {
      "cell_type": "markdown",
      "source": [
        "### **Посчитайте Retention 15 дня (в процентах) для пользователей, зарегистрированных в январе**\n",
        "\n",
        "Cохраните результат в переменную `retention_15_day`\n",
        "\n",
        "**Примечание:** результат округлите до 5 знаков после запятой"
      ],
      "metadata": {
        "id": "s2g2hxfMzqLo"
      }
    },
    {
      "cell_type": "code",
      "source": [
        "# Ваше решение\n",
        "import csv\n",
        "from datetime import datetime\n",
        "# считываем даты регистрации юзеров, делаем словарь\n",
        "dict_reg = {}\n",
        "\n",
        "with open('registrations.csv') as f:\n",
        "  reader = csv.DictReader(f, delimiter=';')\n",
        "  for row in reader:\n",
        "    if datetime.strptime(row['registration_date'],'%Y-%m-%d').date() <= datetime.strptime('2021-01-31','%Y-%m-%d').date():\n",
        "      dict_reg[row['user_id']] = row['registration_date']\n",
        "    else: continue\n",
        "\n",
        "# считываем входы, собираем список словарей\n",
        "lst_entr = []\n",
        "with open('entries.csv') as f:\n",
        "  reader = csv.DictReader(f, delimiter=';')\n",
        "  for row in reader:\n",
        "    if row['user_id'] in dict_reg.keys():\n",
        "      lst_entr.append(row)\n",
        "    else: continue\n",
        "\n",
        "# добавляем реистрации ко входам:\n",
        "for el in lst_entr:\n",
        "  if el['user_id'] in dict_reg.keys():\n",
        "    el['reg_date'] = dict_reg[el['user_id']]\n",
        "  else: continue\n",
        "\n",
        "# преобразуем в дату-время\n",
        "\n",
        "for el in lst_entr:\n",
        "    el['dif'] = (datetime.strptime(el['entry_date'], '%Y-%m-%d').date() - datetime.strptime(el['reg_date'], '%Y-%m-%d').date()).days\n",
        "\n",
        "# создаем словарь где ключ - это разница в днях, а значение это id пользователя\n",
        "dict_raw = {}\n",
        "\n",
        "for el in lst_entr:\n",
        "    if el['dif'] not in dict_raw.keys():\n",
        "      dict_raw[el['dif']] = [el['user_id']]\n",
        "    else: dict_raw[el['dif']].append(el['user_id'])\n",
        "\n",
        "# создаем словарь где ключ - это разница в днях, а значение это количество уникальных пользователей\n",
        "dict_retention = {}\n",
        "for key, val in dict_raw.items():\n",
        "  dict_retention[key] = len(set(val))\n",
        "\n",
        "retention_15_day = round((dict_retention[15]/dict_retention[0] * 100),5)"
      ],
      "metadata": {
        "id": "u5l9mm-vzpJ8"
      },
      "execution_count": null,
      "outputs": []
    },
    {
      "cell_type": "markdown",
      "source": [
        "### **Посчитайте Rolling-retention 30 дня (в процентах) для пользователей из той же когорты**\n",
        "\n",
        "Сохраните результат в переменную `rolling_retention`\n",
        "\n",
        "**Примечание:** результат округлите до 5 знаков после запятой"
      ],
      "metadata": {
        "id": "TbkdEVLI0Cor"
      }
    },
    {
      "cell_type": "code",
      "source": [
        "# Ваше решение\n",
        "import csv\n",
        "from datetime import datetime\n",
        "# считываем даты регистрации юзеров, делаем словарь\n",
        "dict_reg = {}\n",
        "\n",
        "with open('registrations.csv') as f:\n",
        "  reader = csv.DictReader(f, delimiter=';')\n",
        "  for row in reader:\n",
        "    if datetime.strptime(row['registration_date'],'%Y-%m-%d').date() <= datetime.strptime('2021-01-31','%Y-%m-%d').date():\n",
        "      dict_reg[row['user_id']] = row['registration_date']\n",
        "    else: continue\n",
        "\n",
        "# считываем входы, собираем список словарей\n",
        "lst_entr = []\n",
        "with open('entries.csv') as f:\n",
        "  reader = csv.DictReader(f, delimiter=';')\n",
        "  for row in reader:\n",
        "    if row['user_id'] in dict_reg.keys():\n",
        "      lst_entr.append(row)\n",
        "    else: continue\n",
        "\n",
        "# добавляем реистрации ко входам:\n",
        "for el in lst_entr:\n",
        "  if el['user_id'] in dict_reg.keys():\n",
        "    el['reg_date'] = dict_reg[el['user_id']]\n",
        "  else: continue\n",
        "\n",
        "# преобразуем в дату-время\n",
        "\n",
        "for el in lst_entr:\n",
        "    el['dif'] = (datetime.strptime(el['entry_date'], '%Y-%m-%d').date() - datetime.strptime(el['reg_date'], '%Y-%m-%d').date()).days\n",
        "\n",
        "# создаем словарь где ключ - это разница в днях, а значение это id пользователя\n",
        "dict_raw = {}\n",
        "\n",
        "for el in lst_entr:\n",
        "    if el['dif'] not in dict_raw.keys():\n",
        "      dict_raw[el['dif']] = [el['user_id']]\n",
        "    else: dict_raw[el['dif']].append(el['user_id'])\n",
        "\n",
        "# создаем словарь где ключ - это разница в днях, а значение это количество уникальных пользователей\n",
        "dict_retention = {}\n",
        "for key, val in dict_raw.items():\n",
        "  dict_retention[key] = len(set(val))\n",
        "\n",
        "rolling_retention = round((dict_retention[30]/dict_retention[0] * 100),5)"
      ],
      "metadata": {
        "id": "keCBmUDJ0Hho"
      },
      "execution_count": null,
      "outputs": []
    },
    {
      "cell_type": "markdown",
      "source": [
        "### **Посчитайте Lifetime по всем пользователям, посчитанный как интеграл от n-day retention**\n",
        "\n",
        "Сохраните результат в переменную `lifetime`\n",
        "\n",
        "**Примечание:** результат округлите до 5 знаков после запятой"
      ],
      "metadata": {
        "id": "wxkhEVmF0PAo"
      }
    },
    {
      "cell_type": "code",
      "source": [
        "# Ваше решение\n",
        "dict_reg = {}\n",
        "\n",
        "with open('registrations.csv') as f:\n",
        "  reader = csv.DictReader(f, delimiter=';')\n",
        "  for row in reader:\n",
        "    dict_reg[row['user_id']] = row['registration_date']\n",
        "\n",
        "# считываем входы, собираем список словарей\n",
        "lst_entr = []\n",
        "with open('entries.csv') as f:\n",
        "  reader = csv.DictReader(f, delimiter=';')\n",
        "  for row in reader:\n",
        "    if row['user_id'] in dict_reg.keys():\n",
        "      lst_entr.append(row)\n",
        "    else: continue\n",
        "\n",
        "# добавляем реистрации ко входам:\n",
        "for el in lst_entr:\n",
        "  if el['user_id'] in dict_reg.keys():\n",
        "    el['reg_date'] = dict_reg[el['user_id']]\n",
        "  else: continue\n",
        "\n",
        "# преобразуем в дату-время\n",
        "\n",
        "for el in lst_entr:\n",
        "    el['dif'] = (datetime.strptime(el['entry_date'], '%Y-%m-%d').date() - datetime.strptime(el['reg_date'], '%Y-%m-%d').date()).days\n",
        "\n",
        "# создаем словарь где ключ - это разница в днях, а значение это id пользователя\n",
        "dict_raw = {}\n",
        "\n",
        "for el in lst_entr:\n",
        "    if el['dif'] not in dict_raw.keys():\n",
        "      dict_raw[el['dif']] = [el['user_id']]\n",
        "    else: dict_raw[el['dif']].append(el['user_id'])\n",
        "\n",
        "# создаем словарь где ключ - это разница в днях, а значение это количество уникальных пользователей\n",
        "dict_retention = {}\n",
        "for key, val in dict_raw.items():\n",
        "  dict_retention[key] = len(set(val))\n",
        "\n",
        "lifetime = 0\n",
        "for el in dict_retention.values():\n",
        "  lifetime += el/1000\n",
        "lifetime = round(lifetime,5)"
      ],
      "metadata": {
        "id": "KS17l5Ux0UD3"
      },
      "execution_count": null,
      "outputs": []
    },
    {
      "cell_type": "markdown",
      "source": [
        "### **Посчитайте Churn rate 29 дня (в долях), посчитанный по всем пользователям**\n",
        "\n",
        "Сохраните результат в переменную `churn_29`"
      ],
      "metadata": {
        "id": "OrwoZ-wR0jJq"
      }
    },
    {
      "cell_type": "code",
      "source": [
        "# Ваше решение\n",
        "import csv\n",
        "from datetime import datetime\n",
        "# считываем даты регистрации юзеров, делаем словарь\n",
        "dict_reg = {}\n",
        "\n",
        "with open('registrations.csv') as f:\n",
        "  reader = csv.DictReader(f, delimiter=';')\n",
        "  for row in reader:\n",
        "    dict_reg[row['user_id']] = row['registration_date']\n",
        "\n",
        "# считываем входы, собираем список словарей\n",
        "lst_entr = []\n",
        "with open('entries.csv') as f:\n",
        "  reader = csv.DictReader(f, delimiter=';')\n",
        "  for row in reader:\n",
        "    if row['user_id'] in dict_reg.keys():\n",
        "      lst_entr.append(row)\n",
        "    else: continue\n",
        "\n",
        "# добавляем реистрации ко входам:\n",
        "for el in lst_entr:\n",
        "  if el['user_id'] in dict_reg.keys():\n",
        "    el['reg_date'] = dict_reg[el['user_id']]\n",
        "  else: continue\n",
        "\n",
        "# преобразуем в дату-время\n",
        "\n",
        "for el in lst_entr:\n",
        "    el['dif'] = (datetime.strptime(el['entry_date'], '%Y-%m-%d').date() - datetime.strptime(el['reg_date'], '%Y-%m-%d').date()).days\n",
        "\n",
        "# выбираем всех пользователей которые зашли в 29й день и позже:\n",
        "dict_curn = {29:[]}\n",
        "\n",
        "for el in lst_entr:\n",
        "    if el['dif'] >= 29:\n",
        "      dict_curn[29].append(el['user_id'])\n",
        "\n",
        "dict_curn[29] = len(set(dict_curn[29]))\n",
        "\n",
        "churn_29 = 1 - dict_curn[29]/1000"
      ],
      "metadata": {
        "id": "hKN7vidq0mJ3"
      },
      "execution_count": null,
      "outputs": []
    },
    {
      "cell_type": "markdown",
      "source": [
        "### **Посчитайте Mau, Wau, Dau за последний месяц/неделю/день записей**\n",
        "\n",
        "Сохраните результат в переменные `dec_mau`, `dec_wau`, `dec_dau` соответственно\n",
        "\n",
        "**Примечание:** последний месяц записей - декабрь. Поэтому `mau` рассчитываем для декабря (2021 года), для `wau` берем последнюю неделю - с 25 по 31 декабря, и для `dau` соответственно последний день - 31 декабря."
      ],
      "metadata": {
        "id": "QuO3ZwRI5mdH"
      }
    },
    {
      "cell_type": "code",
      "source": [
        "# Ваше решение\n",
        "lst_entr = []\n",
        "with open('entries.csv') as f:\n",
        "  reader = csv.DictReader(f, delimiter=';')\n",
        "  for row in reader:\n",
        "    if datetime.strptime(row['entry_date'], '%Y-%m-%d').date() >= datetime.strptime('2021-12-01','%Y-%m-%d').date() and datetime.strptime(row['entry_date'], '%Y-%m-%d').date() <= datetime.strptime('2021-12-31','%Y-%m-%d').date():\n",
        "      lst_entr.append(row)\n",
        "\n",
        "lst_users = []\n",
        "for el in lst_entr:\n",
        "  lst_users.append(el['user_id'])\n",
        "\n",
        "dec_mau = len(set(lst_users))"
      ],
      "metadata": {
        "id": "HxGWkaSp5kpo"
      },
      "execution_count": null,
      "outputs": []
    },
    {
      "cell_type": "code",
      "source": [
        "# Ваше решение\n",
        "lst_users_wau = []\n",
        "for el in lst_entr:\n",
        "  if datetime.strptime(el['entry_date'], '%Y-%m-%d').date() >= datetime.strptime('2021-12-25','%Y-%m-%d').date() and datetime.strptime(el['entry_date'], '%Y-%m-%d').date() <= datetime.strptime('2021-12-31','%Y-%m-%d').date():\n",
        "    lst_users_wau.append(el['user_id'])\n",
        "\n",
        "dec_wau = len(set(lst_users_wau))"
      ],
      "metadata": {
        "id": "urEWcCuk522y"
      },
      "execution_count": null,
      "outputs": []
    },
    {
      "cell_type": "code",
      "source": [
        "# Ваше решение\n",
        "lst_users_dau = []\n",
        "for el in lst_entr:\n",
        "  if datetime.strptime(el['entry_date'], '%Y-%m-%d').date() == datetime.strptime('2021-12-31','%Y-%m-%d').date() :\n",
        "    lst_users_dau.append(el['user_id'])\n",
        "\n",
        "dec_dau = len(set(lst_users_dau))"
      ],
      "metadata": {
        "id": "hv7Nz3TN59Ds"
      },
      "execution_count": null,
      "outputs": []
    },
    {
      "cell_type": "markdown",
      "source": [
        "### **Посчитайте Mau, Wau, Dau усредненные**\n",
        "\n",
        "Сохраните результат в переменные `avg_mau`, `avg_wau`, `avg_dau` соответственно\n",
        "\n",
        "**Примечание:** результаты округлите до 5 знаков после запятой"
      ],
      "metadata": {
        "id": "gzElxXgv6Dyr"
      }
    },
    {
      "cell_type": "code",
      "source": [
        "# Ваше решение\n",
        "dict_raw_mau = {}\n",
        "with open('entries.csv') as f:\n",
        "  reader = csv.DictReader(f, delimiter=';')\n",
        "  for row in reader:\n",
        "    if row['entry_date'][:-3] in dict_raw_mau.keys():\n",
        "      dict_raw_mau[row['entry_date'][:-3]].append(row['user_id'])\n",
        "    else : dict_raw_mau[row['entry_date'][:-3]] = [row['user_id']]\n",
        "\n",
        "dict_avg_mau = {}\n",
        "for key, val in dict_raw_mau.items():\n",
        "  dict_avg_mau[key] = len(set(val))\n",
        "avg_mau = round(sum(dict_avg_mau.values())/len(dict_avg_mau.values()),5)\n"
      ],
      "metadata": {
        "id": "mUDYPPqx6RPr"
      },
      "execution_count": null,
      "outputs": []
    },
    {
      "cell_type": "code",
      "source": [
        "# Ваше решение\n",
        "lst_wau = []\n",
        "with open('entries.csv') as f:\n",
        "  reader = csv.DictReader(f, delimiter=';')\n",
        "  for row in reader:\n",
        "    row['week'] = datetime.strptime(row['entry_date'], '%Y-%m-%d').isocalendar().week\n",
        "    lst_wau.append(row)\n",
        "\n",
        "dict_raw_wau = {}\n",
        "for el in lst_wau:\n",
        "  if el['week'] in dict_raw_wau.keys():\n",
        "      dict_raw_wau[el['week']].append(el['user_id'])\n",
        "  else : dict_raw_wau[el['week']] = [el['user_id']]\n",
        "\n",
        "dict_avg_wau = {}\n",
        "for key, val in dict_raw_wau.items():\n",
        "  dict_avg_wau[key] = len(set(val))\n",
        "dict_avg_wau\n",
        "\n",
        "avg_wau = round(sum(dict_avg_wau.values())/len(dict_avg_wau.values()),5)\n",
        "avg_wau"
      ],
      "metadata": {
        "id": "WydV9g9C6x7O",
        "colab": {
          "base_uri": "https://localhost:8080/"
        },
        "outputId": "6e43623f-9990-4fed-edcf-19a54953502d"
      },
      "execution_count": null,
      "outputs": [
        {
          "output_type": "execute_result",
          "data": {
            "text/plain": [
              "89.86792"
            ]
          },
          "metadata": {},
          "execution_count": 10
        }
      ]
    },
    {
      "cell_type": "code",
      "source": [
        "# Ваше решение\n",
        "dict_raw_dau = {}\n",
        "with open('entries.csv') as f:\n",
        "  reader = csv.DictReader(f, delimiter=';')\n",
        "  for row in reader:\n",
        "    if row['entry_date'] in dict_raw_dau.keys():\n",
        "      dict_raw_dau[row['entry_date']].append(row['user_id'])\n",
        "    else : dict_raw_dau[row['entry_date']] = [row['user_id']]\n",
        "\n",
        "dict_avg_dau = {}\n",
        "for key, val in dict_raw_dau.items():\n",
        "  dict_avg_dau[key] = len(set(val))\n",
        "avg_dau = round(sum(dict_avg_dau.values())/len(dict_avg_dau.values()),5)\n",
        "\n",
        "avg_dau"
      ],
      "metadata": {
        "id": "NgqOR38d64_T",
        "colab": {
          "base_uri": "https://localhost:8080/"
        },
        "outputId": "0b0011ad-8bce-400a-ccd3-7343100c26fe"
      },
      "execution_count": null,
      "outputs": [
        {
          "output_type": "execute_result",
          "data": {
            "text/plain": [
              "40.5589"
            ]
          },
          "metadata": {},
          "execution_count": 75
        }
      ]
    }
  ]
}